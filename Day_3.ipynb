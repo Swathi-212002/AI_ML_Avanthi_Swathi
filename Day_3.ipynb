{
  "nbformat": 4,
  "nbformat_minor": 0,
  "metadata": {
    "colab": {
      "provenance": [],
      "authorship_tag": "ABX9TyN9IlTtLZpAN8jSWgcZ7Qov",
      "include_colab_link": true
    },
    "kernelspec": {
      "name": "python3",
      "display_name": "Python 3"
    },
    "language_info": {
      "name": "python"
    }
  },
  "cells": [
    {
      "cell_type": "markdown",
      "metadata": {
        "id": "view-in-github",
        "colab_type": "text"
      },
      "source": [
        "<a href=\"https://colab.research.google.com/github/Swathi-212002/AI_ML_Avanthi_Swathi/blob/main/Day_3.ipynb\" target=\"_parent\"><img src=\"https://colab.research.google.com/assets/colab-badge.svg\" alt=\"Open In Colab\"/></a>"
      ]
    },
    {
      "cell_type": "code",
      "execution_count": null,
      "metadata": {
        "id": "luqnXSZtjL2s"
      },
      "outputs": [],
      "source": []
    },
    {
      "cell_type": "code",
      "source": [
        "#functions\n",
        "def chocolates():\n",
        "  print(\"dairy milk\")\n",
        "  print(\"snickers\")\n",
        "  print(\"milkybar\")\n",
        "chocolates()\n",
        "print(\"kitkat\")"
      ],
      "metadata": {
        "colab": {
          "base_uri": "https://localhost:8080/"
        },
        "id": "KJ72dtz5n0qD",
        "outputId": "d05e7103-6227-48ee-c4ec-045bfe3ce80e"
      },
      "execution_count": 2,
      "outputs": [
        {
          "output_type": "stream",
          "name": "stdout",
          "text": [
            "dairy milk\n",
            "snickers\n",
            "milkybar\n",
            "kitkat\n"
          ]
        }
      ]
    },
    {
      "cell_type": "code",
      "source": [
        "#both a and b can be used\n",
        "def number(a):\n",
        "  if a>=5:\n",
        "    print(\"Good\")\n",
        "  else:\n",
        "    print(\"Bad\")\n",
        "\n",
        "b=5\n",
        "number(b)\n",
        "b=10\n",
        "number(b)\n",
        "b=1\n",
        "number(b)\n"
      ],
      "metadata": {
        "colab": {
          "base_uri": "https://localhost:8080/"
        },
        "id": "uncudvq9jQgf",
        "outputId": "1f561108-0d3d-4a88-ff8c-7f36df72a94c"
      },
      "execution_count": 3,
      "outputs": [
        {
          "output_type": "stream",
          "name": "stdout",
          "text": [
            "Good\n",
            "Good\n",
            "Bad\n"
          ]
        }
      ]
    },
    {
      "cell_type": "code",
      "source": [
        "#parameters passing\n",
        "def number(a,b):\n",
        "  print(a)\n",
        "  print(b)\n",
        "a=5\n",
        "b=6\n",
        "number(a,b)"
      ],
      "metadata": {
        "colab": {
          "base_uri": "https://localhost:8080/"
        },
        "id": "FbZ_uLC1q6x_",
        "outputId": "f40a4477-466d-4464-866d-2918903a515c"
      },
      "execution_count": 4,
      "outputs": [
        {
          "output_type": "stream",
          "name": "stdout",
          "text": [
            "5\n",
            "6\n"
          ]
        }
      ]
    },
    {
      "cell_type": "code",
      "source": [
        "#write a function to calculate the grades of a student based on their marks\n"
      ],
      "metadata": {
        "id": "zUzMTXdkrgay"
      },
      "execution_count": null,
      "outputs": []
    }
  ]
}